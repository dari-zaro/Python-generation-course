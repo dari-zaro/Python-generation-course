{
 "cells": [
  {
   "cell_type": "code",
   "execution_count": 44,
   "id": "368de303-d06c-48b2-ac13-7de87ea943be",
   "metadata": {},
   "outputs": [
    {
     "name": "stdin",
     "output_type": "stream",
     "text": [
      " 7\n",
      " 10\n",
      " 5\n",
      " 6\n"
     ]
    },
    {
     "name": "stdout",
     "output_type": "stream",
     "text": [
      "7\n",
      "35\t42\t\n",
      "8\n",
      "40\t48\t\n",
      "9\n",
      "45\t54\t\n",
      "10\n",
      "50\t60\t\n"
     ]
    }
   ],
   "source": [
    "#Задача №1\n",
    "\n",
    "a = int(input())\n",
    "b = int(input())\n",
    "c = int(input())\n",
    "d = int(input()) \n",
    "for i in range(a, b + 1):\n",
    "    print(i)\n",
    "    for v in range(c, d+ 1):        \n",
    "        print(i * v, end = '\\t')\n",
    "    print()"
   ]
  },
  {
   "cell_type": "code",
   "execution_count": 65,
   "id": "43b46e9d-d0c1-4229-988d-5431d4c5cd42",
   "metadata": {},
   "outputs": [
    {
     "name": "stdin",
     "output_type": "stream",
     "text": [
      " 7\n",
      " 10\n",
      " 5\n",
      " 6\n"
     ]
    },
    {
     "name": "stdout",
     "output_type": "stream",
     "text": [
      "\t5\t6\n",
      "7\t35\t42\t\n",
      "8\t40\t48\t\n",
      "9\t45\t54\t\n",
      "10\t50\t60\t\n"
     ]
    }
   ],
   "source": [
    "a =int (input())\n",
    "b =int (input())\n",
    "c =int (input())\n",
    "d =int (input())\n",
    "for v in range (c,d+1):\n",
    "    print('\\t'+str(v),end='')\n",
    "print(end='\\n')\n",
    "for i in range (a,b+1):\n",
    "    print(str(i)+'\\t',end='')\n",
    "    for j in range (c,d+1):\n",
    "        print(str(i*j),end='\\t')\n",
    "    print(end='\\n')"
   ]
  },
  {
   "cell_type": "code",
   "execution_count": 64,
   "id": "ca8ca710-b34f-4b64-89d0-7067cb04b9e7",
   "metadata": {},
   "outputs": [
    {
     "name": "stdin",
     "output_type": "stream",
     "text": [
      " 3\n",
      " 7\n"
     ]
    },
    {
     "name": "stdout",
     "output_type": "stream",
     "text": [
      "15\n"
     ]
    }
   ],
   "source": [
    "#Задача/вариант решения 1 - вывести сумму всех нечетных чисел от a до b, включая обе границы\n",
    "\n",
    "a = int(input())\n",
    "b = int(input())\n",
    "s = 0\n",
    "for i in range(a, b + 1):\n",
    "    if i % 2 == 1:\n",
    "        s += i\n",
    "print(s)"
   ]
  },
  {
   "cell_type": "code",
   "execution_count": 67,
   "id": "70dec92c-0e3a-4358-a1bf-a6dd881f90ce",
   "metadata": {},
   "outputs": [
    {
     "name": "stdin",
     "output_type": "stream",
     "text": [
      " 3\n",
      " 7\n"
     ]
    },
    {
     "name": "stdout",
     "output_type": "stream",
     "text": [
      "15\n"
     ]
    }
   ],
   "source": [
    "#Задача/вариант решения 2\n",
    "\n",
    "a = int(input())\n",
    "b = int(input())\n",
    "s = 0\n",
    "if a % 2 == 0:\n",
    "    a += 1\n",
    "for i in range(a,b+1,2):\n",
    "    s += i\n",
    "print(s)"
   ]
  },
  {
   "cell_type": "code",
   "execution_count": 69,
   "id": "62857d4a-f857-460c-ad5c-77a83e69a078",
   "metadata": {},
   "outputs": [
    {
     "name": "stdin",
     "output_type": "stream",
     "text": [
      " 3 7\n"
     ]
    },
    {
     "name": "stdout",
     "output_type": "stream",
     "text": [
      "15\n"
     ]
    }
   ],
   "source": [
    "#Задача/вариант решения 3\n",
    "\n",
    "a,b = (int(i) for i in input().split())\n",
    "s = 0\n",
    "if a % 2 == 0:\n",
    "    a += 1\n",
    "for i in range(a,b+1,2):\n",
    "    s += i\n",
    "print(s)"
   ]
  },
  {
   "cell_type": "code",
   "execution_count": 81,
   "id": "d4056890-982a-44fc-a523-82fc9e42559f",
   "metadata": {},
   "outputs": [
    {
     "name": "stdin",
     "output_type": "stream",
     "text": [
      " -5\n",
      " 12\n"
     ]
    },
    {
     "name": "stdout",
     "output_type": "stream",
     "text": [
      "4.5\n"
     ]
    }
   ],
   "source": [
    "#Задача №2 - вывести на экран среднее арифметическое всех чисел на отрезке между сседенными числами, которые кратны 3.\n",
    "a = int(input())\n",
    "b = int(input())\n",
    "s = 0 #накопление суммы\n",
    "n = 0 #накопление циклов\n",
    "for i in range(a,b+1):\n",
    "    if i % 3 != 0:\n",
    "        i += 1\n",
    "    else:\n",
    "        s += i\n",
    "        n += 1\n",
    "print(s/n)"
   ]
  },
  {
   "cell_type": "code",
   "execution_count": null,
   "id": "b6569e3f-1109-43c2-b8f0-4b412470ea79",
   "metadata": {},
   "outputs": [],
   "source": []
  }
 ],
 "metadata": {
  "kernelspec": {
   "display_name": "Python 3 (ipykernel)",
   "language": "python",
   "name": "python3"
  },
  "language_info": {
   "codemirror_mode": {
    "name": "ipython",
    "version": 3
   },
   "file_extension": ".py",
   "mimetype": "text/x-python",
   "name": "python",
   "nbconvert_exporter": "python",
   "pygments_lexer": "ipython3",
   "version": "3.10.6"
  }
 },
 "nbformat": 4,
 "nbformat_minor": 5
}
