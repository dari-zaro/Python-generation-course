{
 "cells": [
  {
   "cell_type": "code",
   "execution_count": 3,
   "id": "cf6a5d9b-2b0d-448b-8148-b07541ed97cd",
   "metadata": {},
   "outputs": [
    {
     "name": "stdout",
     "output_type": "stream",
     "text": [
      "1 2 3\n"
     ]
    }
   ],
   "source": [
    "a = [[1,2,3],[4,5,6],[7,8,9]]\n",
    "print(*a[0])"
   ]
  },
  {
   "cell_type": "code",
   "execution_count": 6,
   "id": "57933a73-eea8-42d5-98e4-87c4e2d05e6e",
   "metadata": {},
   "outputs": [
    {
     "name": "stdin",
     "output_type": "stream",
     "text": [
      " 3 6 8 4 8 6 4 2 5\n"
     ]
    },
    {
     "name": "stdout",
     "output_type": "stream",
     "text": [
      "2\n"
     ]
    }
   ],
   "source": [
    "# поиск минимума в списке.\n",
    "\n",
    "a = [int(i) for i in input().split()]\n",
    "m = a[0]\n",
    "for x in a:\n",
    "    if m > x:\n",
    "        m = x\n",
    "print(m)\n"
   ]
  },
  {
   "cell_type": "code",
   "execution_count": null,
   "id": "ad192915-048c-45c1-aa60-c120f08c8ec0",
   "metadata": {},
   "outputs": [],
   "source": [
    "# Сапер. Программа нарисует поле для игры. Даны размеры поля и координаты мин. \n",
    "\n",
    "\n",
    "n, m, k = (int(i) for i in input().split())  # чтение размеров поля и числа мин\n",
    "a = [[0 for j in range(m)] for i in range(n)]  # заполнение поля нулями\n",
    "for i in range(k):\n",
    "    row, col = (int(i) - 1 for i in input().split())\n",
    "    a[row][col] = -1  # расставляем мины\n",
    "for i in range(n):\n",
    "    for j in range(m):\n",
    "        if a[i][j] == 0:  # в этой клетке мины нет, поэтому считаем число мин вокруг\n",
    "            for di in range(-1, 2):\n",
    "                for dj in range(-1, 2):\n",
    "                    ai = i + di\n",
    "                    aj = j + dj\n",
    "                    # (ai, aj)\n",
    "                    if 0 <= ai < n and 0 <= aj < m and a[ai][aj] == -1:\n",
    "                        a[i][j] += 1\n",
    "# вывод результата\n",
    "for i in range(n):\n",
    "    for j in range(m):\n",
    "        if a[i][j] == -1:\n",
    "            print('*', end='')\n",
    "        elif a[i][j] == 0:\n",
    "            print('.', end='')\n",
    "        else:\n",
    "            print(a[i][j], end='')\n",
    "    print()"
   ]
  },
  {
   "cell_type": "markdown",
   "id": "1a14e51e-22dc-4232-ba6a-405089ab882c",
   "metadata": {},
   "source": [
    "Размеры поля: 5 4 4 (последняя цифра- кол-во мин на поле)\n",
    "Координаты мин: 1 1, 2 2, 3 2, 4 4\n",
    "Если в координатах стоит мина, указываем ее знаком *.\n",
    "Пример: *21, 3*2, 2*31, 112*\n",
    "Для всех клеток нужно постичать соседствующие мины. Если рядом с клеткой обнаружены мины нужно вывести их кол-во. Если мин не обнаружено мы будем ставить '.'\n",
    "Решение:\n",
    "1) Для решения задачи мы создадим двумерную матрицу и заполним ее нулями.\n",
    "2) Занесем в список мины по заданным координатам. Допустим, это будет значение = -1. -1 будет значить, что в ячейке мина.\n",
    "3) В каждой ячейке матрицы мы будем накапливать значение соответствующее кол-ву мин по соседству."
   ]
  },
  {
   "cell_type": "markdown",
   "id": "a8e25886-2978-4a10-831a-e43ae843af6b",
   "metadata": {},
   "source": [
    "РЕШЕНИЕ ЗАДАЧ"
   ]
  },
  {
   "cell_type": "code",
   "execution_count": 7,
   "id": "b0423964-54f2-4365-81fd-c5794cf0db3d",
   "metadata": {},
   "outputs": [
    {
     "name": "stdin",
     "output_type": "stream",
     "text": [
      " 1\n",
      " -3\n",
      " 5\n",
      " -6\n",
      " -10\n",
      " 13\n"
     ]
    },
    {
     "name": "stdout",
     "output_type": "stream",
     "text": [
      "340\n"
     ]
    }
   ],
   "source": [
    "# задача 1\n",
    "a1 = int (input())\n",
    "s= a1\n",
    "s2 = 0+abs(a1**2)\n",
    "while s!=0:\n",
    "    a1 = int(input())\n",
    "    s = s + a1\n",
    "    s2 = s2+abs(a1)**2\n",
    "    if s==0:\n",
    "        break\n",
    "print(s2)"
   ]
  },
  {
   "cell_type": "code",
   "execution_count": 8,
   "id": "346d6df7-23fb-476a-a063-75871b33068c",
   "metadata": {},
   "outputs": [
    {
     "name": "stdin",
     "output_type": "stream",
     "text": [
      " 7\n"
     ]
    },
    {
     "name": "stdout",
     "output_type": "stream",
     "text": [
      "1 2 2 3 3 3 4\n"
     ]
    }
   ],
   "source": [
    "# задача 2\n",
    "n = int(input())\n",
    "lis = []\n",
    "for i in range(1, n+1):\n",
    "    for j in range(1, i+1):\n",
    "        lis.append(i)\n",
    "print(*lis[:n])"
   ]
  },
  {
   "cell_type": "code",
   "execution_count": 9,
   "id": "132fd230-f683-4820-b825-625ea963cf7f",
   "metadata": {},
   "outputs": [
    {
     "name": "stdin",
     "output_type": "stream",
     "text": [
      " 5 8 2 7 8 8 2 4\n",
      " 8\n"
     ]
    },
    {
     "name": "stdout",
     "output_type": "stream",
     "text": [
      "1 4 5 "
     ]
    }
   ],
   "source": [
    "# задача 3\n",
    "\n",
    "s = [ int(i) for i in input().split()]\n",
    "n = int(input())\n",
    "t = []\n",
    "l = len(s)-1\n",
    "if n in s:\n",
    "    for i in range(0,l+1):\n",
    "        if s[i]==n:\n",
    "            t.append(i)\n",
    "    g = len(t)-1\n",
    "    for j in range(0,g+1):\n",
    "        print(t[j],end=' ')\n",
    "else:\n",
    "    print('Отсутствует')"
   ]
  },
  {
   "cell_type": "code",
   "execution_count": 10,
   "id": "579ff51b-e5b9-4a04-b3ba-9a1a7cee6bd4",
   "metadata": {},
   "outputs": [
    {
     "name": "stdin",
     "output_type": "stream",
     "text": [
      " 9 5 3\n",
      " 0 7 -1\n",
      " -5 2 9\n",
      " end\n"
     ]
    },
    {
     "name": "stdout",
     "output_type": "stream",
     "text": [
      "3 21 22\n",
      "10 6 19\n",
      "20 16 -1\n"
     ]
    }
   ],
   "source": [
    "# задача 4\n",
    "\n",
    "m = []\n",
    "while True:\n",
    "    n = input().split()\n",
    "    if n[0] == 'end':\n",
    "        break\n",
    "    else:\n",
    "        m.append(n)\n",
    "for i in range(len(m)):\n",
    "    x = ''\n",
    "    for j in range(len(m[i])):\n",
    "        a = int(m[i - 1][j])\n",
    "        if i == len(m) - 1:\n",
    "            b = int(m[0][j])\n",
    "        else:\n",
    "            b = int(m[i + 1][j])\n",
    "        c = int(m[i][j - 1])\n",
    "        if j == len(m[i]) - 1:\n",
    "            d = int(m[i][0])\n",
    "        else:\n",
    "            d = int(m[i][j + 1])\n",
    "        s = a + b + c + d\n",
    "        x += str(s) + ' '\n",
    "    print(x.rstrip())"
   ]
  },
  {
   "cell_type": "code",
   "execution_count": 12,
   "id": "c2941ae3-f8b7-46f0-8058-fda673e1ed7e",
   "metadata": {},
   "outputs": [
    {
     "name": "stdin",
     "output_type": "stream",
     "text": [
      " 5\n"
     ]
    },
    {
     "name": "stdout",
     "output_type": "stream",
     "text": [
      "1 2 3 4 5\n",
      "16 17 18 19 6\n",
      "15 24 25 20 7\n",
      "14 23 22 21 8\n",
      "13 12 11 10 9\n"
     ]
    }
   ],
   "source": [
    "# задача 5\n",
    "def zm(n):\n",
    "    dx, dy = 1, 0\n",
    "    x, y = 0, 0\n",
    "    arr = [[None] * n for _ in range(n)]\n",
    "    for i in range(1, n**2+1):\n",
    "        arr[x][y] = i\n",
    "        nx, ny = x+dx, y+dy\n",
    "        if 0 <= nx < n and 0 <= ny < n and not arr[nx][ny]:\n",
    "            x, y = nx, ny\n",
    "        else:\n",
    "            dx, dy = -dy, dx\n",
    "            x, y = x+dx, y+dy\n",
    "    for x in list(zip(*arr)):\n",
    "        print(*x)\n",
    " \n",
    "zm(int(input()))"
   ]
  },
  {
   "cell_type": "code",
   "execution_count": null,
   "id": "b45ba96f-3d4f-46f2-8caa-86dde8543889",
   "metadata": {},
   "outputs": [],
   "source": []
  }
 ],
 "metadata": {
  "kernelspec": {
   "display_name": "Python 3 (ipykernel)",
   "language": "python",
   "name": "python3"
  },
  "language_info": {
   "codemirror_mode": {
    "name": "ipython",
    "version": 3
   },
   "file_extension": ".py",
   "mimetype": "text/x-python",
   "name": "python",
   "nbconvert_exporter": "python",
   "pygments_lexer": "ipython3",
   "version": "3.10.6"
  }
 },
 "nbformat": 4,
 "nbformat_minor": 5
}
