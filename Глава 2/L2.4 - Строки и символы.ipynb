{
 "cells": [
  {
   "cell_type": "code",
   "execution_count": 1,
   "id": "5929d951-1191-43f7-a8f2-6e08709c1f4c",
   "metadata": {},
   "outputs": [
    {
     "name": "stdin",
     "output_type": "stream",
     "text": [
      " \n"
     ]
    },
    {
     "name": "stdout",
     "output_type": "stream",
     "text": [
      "0\n"
     ]
    }
   ],
   "source": [
    "#Задача - дана геномная последовательность, вывести сколько раз в ней встречались нуклеотид цитозин (C).\n",
    "#Способ 1\n",
    "\n",
    "genome = input()\n",
    "cnt = 0 #счетчик цитозина\n",
    "for nucl in genome:\n",
    "    if nucl == 'C':\n",
    "        cnt += 1\n",
    "print(cnt)"
   ]
  },
  {
   "cell_type": "code",
   "execution_count": null,
   "id": "42ced5ca-d59f-4bfd-bb4c-92197406c581",
   "metadata": {},
   "outputs": [],
   "source": [
    "#Способ 2\n",
    "genome = input()\n",
    "print(genome.count('C'))"
   ]
  },
  {
   "cell_type": "code",
   "execution_count": 6,
   "id": "f4fad9a7-f4e8-4f87-9d78-41adab480cee",
   "metadata": {},
   "outputs": [
    {
     "name": "stdin",
     "output_type": "stream",
     "text": [
      " CGFJcghgcmcGFG\n"
     ]
    },
    {
     "name": "stdout",
     "output_type": "stream",
     "text": [
      "64.28571428571429\n"
     ]
    }
   ],
   "source": [
    "#ЗАДАЧА\n",
    "\n",
    "s = input()\n",
    "c = s.lower().count('c')\n",
    "g = s.lower().count('g')\n",
    "l = len(s)\n",
    "print((c+g)/l * 100)"
   ]
  },
  {
   "cell_type": "code",
   "execution_count": 11,
   "id": "46dce664-9c94-4e79-8fe2-cc113ffb6277",
   "metadata": {},
   "outputs": [
    {
     "name": "stdin",
     "output_type": "stream",
     "text": [
      " aadsstssdaa\n"
     ]
    },
    {
     "name": "stdout",
     "output_type": "stream",
     "text": [
      "NO\n"
     ]
    }
   ],
   "source": [
    "#задача- палиндром (строка должна читаться как слева направо, так и в обратную сторону одинаково, например abccba)\n",
    "s = input()\n",
    "i = 0\n",
    "j = len(s) - 1\n",
    "is_p = True\n",
    "while i < j:\n",
    "    if s[i] != s[j]:\n",
    "        is_p = False\n",
    "    i =+ 1\n",
    "    j -= 1\n",
    "if is_p:\n",
    "    print('YES')\n",
    "else:\n",
    "    print('NO')"
   ]
  },
  {
   "cell_type": "code",
   "execution_count": 14,
   "id": "bbffbcc2-b215-4dfc-8d78-93f7db18a7cf",
   "metadata": {},
   "outputs": [
    {
     "name": "stdout",
     "output_type": "stream",
     "text": [
      "def\n",
      "abcdef\n",
      "defghijk\n",
      "kjihgfedcba\n",
      "ijk\n",
      "abcde\n",
      "kigec\n"
     ]
    }
   ],
   "source": [
    "# Примечание: првый индекс слева равен 0, А ПЕРВЫЙ ИНДЕКС СПРАВА -1. Такие вот дела, да.\n",
    "s = 'abcdefghijk' \n",
    "print(s[3:6])\n",
    "print(s[:6])\n",
    "print(s[3:])\n",
    "print(s[::-1])\n",
    "print(s[-3:])\n",
    "print(s[:-6])\n",
    "print(s[-1:-10:-2])"
   ]
  },
  {
   "cell_type": "code",
   "execution_count": 2,
   "id": "f47c0759-2142-473a-945b-e32a4c8a2fa8",
   "metadata": {},
   "outputs": [
    {
     "name": "stdin",
     "output_type": "stream",
     "text": [
      " aaaabbcaa\n"
     ]
    },
    {
     "name": "stdout",
     "output_type": "stream",
     "text": [
      "a4b2c1a2"
     ]
    }
   ],
   "source": [
    "#ЗАДАЧА\n",
    "s = input()\n",
    "L=len(s)\n",
    "cnt=1 #счетчик кол-ва\n",
    "for i in range(L):\n",
    "    if i==(L-1):\n",
    "        print(s[i]+str(cnt),end='')\n",
    "    else:\n",
    "        if s[i]==s[i+1]:\n",
    "            cnt=cnt+1\n",
    "        else:\n",
    "            print(s[i]+str(cnt),end='')\n",
    "            cnt=1"
   ]
  },
  {
   "cell_type": "markdown",
   "id": "0b83e7c4-5bd8-4fa4-8106-5d8363130ef3",
   "metadata": {},
   "source": [
    "Заметка для решения:\n",
    "\n",
    "1) Нужно последовательно проверить каждый символ.\n",
    "2) Нужно сделать счетчик, который будет равен 1 при проверке символа и увеличиваться на 1, если следующий символ равен предыдущему.В конце цикла вывести по индексу значение строки + счетчик.\n",
    "3) В итоге должен быть цикл, где мы проверяем на равенство текущий и следующий символ. "
   ]
  }
 ],
 "metadata": {
  "kernelspec": {
   "display_name": "Python 3 (ipykernel)",
   "language": "python",
   "name": "python3"
  },
  "language_info": {
   "codemirror_mode": {
    "name": "ipython",
    "version": 3
   },
   "file_extension": ".py",
   "mimetype": "text/x-python",
   "name": "python",
   "nbconvert_exporter": "python",
   "pygments_lexer": "ipython3",
   "version": "3.10.6"
  }
 },
 "nbformat": 4,
 "nbformat_minor": 5
}
