{
 "cells": [
  {
   "cell_type": "code",
   "execution_count": 6,
   "id": "f4252eab-2b8c-432a-99df-987ec268a286",
   "metadata": {},
   "outputs": [
    {
     "name": "stdin",
     "output_type": "stream",
     "text": [
      " 4 -1 9 3\n"
     ]
    },
    {
     "name": "stdout",
     "output_type": "stream",
     "text": [
      "15\n"
     ]
    }
   ],
   "source": [
    "#ЗАДАЧА 1\n",
    "\n",
    "a = str(input())\n",
    "spis = a.split()\n",
    "S = 0\n",
    "for i in spis:\n",
    "    S += int(i)\n",
    "print(S)"
   ]
  },
  {
   "cell_type": "code",
   "execution_count": 1,
   "id": "7dfc3cbb-02b5-4286-83ed-dd31f051a490",
   "metadata": {},
   "outputs": [
    {
     "name": "stdin",
     "output_type": "stream",
     "text": [
      " 1 3 5 6 10\n"
     ]
    },
    {
     "name": "stdout",
     "output_type": "stream",
     "text": [
      "13 6 9 15 7\n"
     ]
    }
   ],
   "source": [
    "#ЗАДАЧА 2\n",
    "\n",
    "a = [int(i) for i in input().split()]\n",
    "if len(a) == 1:\n",
    "    print(a[0])\n",
    "elif len(a) == 2:\n",
    "    print(a[1]*2, a[0]*2)\n",
    "else:\n",
    "    for i in range(len(a)):\n",
    "        if i < len(a) - 1:\n",
    "            print(a[i-1] + a[i+1], end=\" \" )\n",
    "        else:\n",
    "            print(a[0] + a[i-1])"
   ]
  },
  {
   "cell_type": "code",
   "execution_count": null,
   "id": "91520321-2384-4924-97cb-5cf15bf3003a",
   "metadata": {},
   "outputs": [],
   "source": [
    "#ЗАДАЧА 3\n",
    "\n",
    "arr = sorted(list(map(int, input().split())))\n",
    "res = [arr[i] for i in range(len(arr) - 1) if arr[i] == arr[i+1] and (i == 0 or arr[i] != arr[i-1])]\n",
    "print(*res)"
   ]
  }
 ],
 "metadata": {
  "kernelspec": {
   "display_name": "Python 3 (ipykernel)",
   "language": "python",
   "name": "python3"
  },
  "language_info": {
   "codemirror_mode": {
    "name": "ipython",
    "version": 3
   },
   "file_extension": ".py",
   "mimetype": "text/x-python",
   "name": "python",
   "nbconvert_exporter": "python",
   "pygments_lexer": "ipython3",
   "version": "3.10.6"
  }
 },
 "nbformat": 4,
 "nbformat_minor": 5
}
