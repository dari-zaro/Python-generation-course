{
 "cells": [
  {
   "cell_type": "code",
   "execution_count": 1,
   "id": "bb80a004-2aee-47b5-9a12-2899066a4291",
   "metadata": {},
   "outputs": [
    {
     "name": "stdout",
     "output_type": "stream",
     "text": [
      "1\n",
      "2\n",
      "3\n",
      "4\n",
      "5\n",
      "6\n",
      "7\n",
      "8\n",
      "10\n",
      "11\n",
      "13\n"
     ]
    }
   ],
   "source": [
    "i = 0\n",
    "while i <= 10:\n",
    "    i = i + 1\n",
    "    print(i)\n",
    "    if i > 7:\n",
    "        i = i + 2\n",
    "        print(i)"
   ]
  },
  {
   "cell_type": "code",
   "execution_count": 5,
   "id": "11501555-ed9b-4378-97e7-e828599f7ce4",
   "metadata": {},
   "outputs": [
    {
     "name": "stdin",
     "output_type": "stream",
     "text": [
      " 10\n"
     ]
    },
    {
     "name": "stdout",
     "output_type": "stream",
     "text": [
      "*\n",
      "**\n",
      "***\n",
      "****\n",
      "*****\n",
      "******\n",
      "*******\n",
      "********\n",
      "*********\n",
      "**********\n"
     ]
    }
   ],
   "source": [
    "# Вариант №1\n",
    "\n",
    "n = int(input())\n",
    "c = 1\n",
    "while c <= n:\n",
    "    print('*' * c)\n",
    "    c += 1"
   ]
  },
  {
   "cell_type": "code",
   "execution_count": 6,
   "id": "b6c0afcc-e61f-4e52-8d28-22b9753af00a",
   "metadata": {},
   "outputs": [
    {
     "name": "stdin",
     "output_type": "stream",
     "text": [
      " 5\n"
     ]
    },
    {
     "name": "stdout",
     "output_type": "stream",
     "text": [
      "*\n",
      "**\n",
      "***\n",
      "****\n",
      "*****\n"
     ]
    }
   ],
   "source": [
    "# Вариант №2\n",
    "\n",
    "n = int(input())\n",
    "stars = '*'\n",
    "while len(stars) <= n:\n",
    "    print(stars)\n",
    "    stars += '*'"
   ]
  },
  {
   "cell_type": "code",
   "execution_count": 7,
   "id": "0a00a60e-0f5d-42da-813e-b818e5987a39",
   "metadata": {},
   "outputs": [
    {
     "data": {
      "text/plain": [
       "0.0"
      ]
     },
     "execution_count": 7,
     "metadata": {},
     "output_type": "execute_result"
    }
   ],
   "source": [
    "0 / 2"
   ]
  },
  {
   "cell_type": "code",
   "execution_count": null,
   "id": "61d0795b-5abd-428e-bd09-afaa45fe4b61",
   "metadata": {},
   "outputs": [],
   "source": [
    "#задача - вычислить сумму целых чисел на интервале от a до b\n",
    "#примерно схема выполнения будет такой:\n",
    "s = 0\n",
    "i = a\n",
    "while i <= b:\n",
    "    s += i\n",
    "    i += 1\n",
    "print(s)"
   ]
  },
  {
   "cell_type": "code",
   "execution_count": null,
   "id": "97a9a8dc-6e51-45dc-b070-f51ffd8b5940",
   "metadata": {},
   "outputs": [],
   "source": [
    "#ЗАДАЧА №1 - программа будет накапливать сумму введенных чисел, пока не будет введен 0.\n",
    "\n",
    "S = 0\n",
    "i = int(input())\n",
    "while i != 0:\n",
    "    S += i\n",
    "    i = int(input())\n",
    "print(S)"
   ]
  },
  {
   "cell_type": "code",
   "execution_count": 8,
   "id": "7f49b6b1-3819-4203-8ba3-99f62a3ee161",
   "metadata": {},
   "outputs": [
    {
     "name": "stdin",
     "output_type": "stream",
     "text": [
      " 6\n",
      " 7\n"
     ]
    },
    {
     "name": "stdout",
     "output_type": "stream",
     "text": [
      "42\n"
     ]
    }
   ],
   "source": [
    "#ЗАДАЧА №2\n",
    "\n",
    "a = int(input())\n",
    "b = int(input())\n",
    "if a >= b:\n",
    "    m = a\n",
    "else:\n",
    "    m = b\n",
    "d = m\n",
    "while d % a != 0 or d % b != 0:\n",
    "    d += m\n",
    "print(d)"
   ]
  },
  {
   "cell_type": "code",
   "execution_count": null,
   "id": "c443768a-2e45-409f-8071-fced38ea388d",
   "metadata": {},
   "outputs": [],
   "source": []
  }
 ],
 "metadata": {
  "kernelspec": {
   "display_name": "Python 3 (ipykernel)",
   "language": "python",
   "name": "python3"
  },
  "language_info": {
   "codemirror_mode": {
    "name": "ipython",
    "version": 3
   },
   "file_extension": ".py",
   "mimetype": "text/x-python",
   "name": "python",
   "nbconvert_exporter": "python",
   "pygments_lexer": "ipython3",
   "version": "3.10.6"
  }
 },
 "nbformat": 4,
 "nbformat_minor": 5
}
