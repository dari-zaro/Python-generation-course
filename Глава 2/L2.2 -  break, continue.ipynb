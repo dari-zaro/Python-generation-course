{
 "cells": [
  {
   "cell_type": "code",
   "execution_count": 3,
   "id": "7a57859b-4b7e-41a8-abf4-c5dfa848fccb",
   "metadata": {},
   "outputs": [],
   "source": [
    "#Задача: чему в итоге равно i?\n",
    "i = 0\n",
    "s = 0\n",
    "while i < 10:\n",
    "    i = i + 1\n",
    "    s = s + i\n",
    "    if s > 15:\n",
    "        break\n",
    "    i = i + 1\n",
    "# Ответ: i = 10"
   ]
  },
  {
   "cell_type": "code",
   "execution_count": 11,
   "id": "adb3b73a-e162-4ba0-b879-19760ddf7e29",
   "metadata": {},
   "outputs": [
    {
     "name": "stdin",
     "output_type": "stream",
     "text": [
      " 12\n"
     ]
    },
    {
     "name": "stdout",
     "output_type": "stream",
     "text": [
      "12\n"
     ]
    },
    {
     "name": "stdin",
     "output_type": "stream",
     "text": [
      " 4\n",
      " 2\n"
     ]
    }
   ],
   "source": [
    "## Задача\n",
    "'''\n",
    "Условия:\n",
    "1) Ввод числа.\n",
    "2) если число меньше 10 - пропускаем.\n",
    "3) если число больше 100 - прекращаем считывать числа.\n",
    "4) в остальных случаях вывести это число обратно на консоль в отдельной строке.\n",
    "'''\n",
    "v = 1\n",
    "while v == 1:\n",
    "    a = int(input())\n",
    "    if 10 <= a <= 100:\n",
    "        print(a)\n",
    "    if a < 10:\n",
    "        continue\n",
    "    if a > 100:\n",
    "        break"
   ]
  }
 ],
 "metadata": {
  "kernelspec": {
   "display_name": "Python 3 (ipykernel)",
   "language": "python",
   "name": "python3"
  },
  "language_info": {
   "codemirror_mode": {
    "name": "ipython",
    "version": 3
   },
   "file_extension": ".py",
   "mimetype": "text/x-python",
   "name": "python",
   "nbconvert_exporter": "python",
   "pygments_lexer": "ipython3",
   "version": "3.10.6"
  }
 },
 "nbformat": 4,
 "nbformat_minor": 5
}
