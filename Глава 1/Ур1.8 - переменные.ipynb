{
 "cells": [
  {
   "cell_type": "code",
   "execution_count": 38,
   "id": "47902375-5c11-46b2-b71c-c8bb78416db9",
   "metadata": {},
   "outputs": [
    {
     "name": "stdin",
     "output_type": "stream",
     "text": [
      "Enter you name: Dasha\n"
     ]
    },
    {
     "name": "stdout",
     "output_type": "stream",
     "text": [
      "Hello, Dasha\n"
     ]
    }
   ],
   "source": [
    "name = input(\"Enter you name:\")\n",
    "print(\"Hello,\", name)"
   ]
  },
  {
   "cell_type": "code",
   "execution_count": 37,
   "id": "be85b3bd-89d8-4e51-a14a-8b70b3eee88f",
   "metadata": {},
   "outputs": [
    {
     "name": "stdin",
     "output_type": "stream",
     "text": [
      "Enter a number: 97\n"
     ]
    },
    {
     "name": "stdout",
     "output_type": "stream",
     "text": [
      "776\n"
     ]
    }
   ],
   "source": [
    "a = int(input(\"Enter a number:\"))\n",
    "print(a * 8)"
   ]
  },
  {
   "cell_type": "code",
   "execution_count": 36,
   "id": "d16b05bc-fc9b-45c3-8691-f589b07ea687",
   "metadata": {},
   "outputs": [
    {
     "name": "stdin",
     "output_type": "stream",
     "text": [
      "Enter a number #1: 9\n",
      "Enter a number #2: 57\n"
     ]
    },
    {
     "name": "stdout",
     "output_type": "stream",
     "text": [
      "513\n"
     ]
    }
   ],
   "source": [
    "a = int(input(\"Enter a number #1:\"))\n",
    "b = int(input(\"Enter a number #2:\"))\n",
    "print(a * b)"
   ]
  },
  {
   "cell_type": "code",
   "execution_count": null,
   "id": "6da6edb1-109a-4508-891c-82d5cf4935a5",
   "metadata": {},
   "outputs": [],
   "source": [
    "ЗАДАЧИ"
   ]
  },
  {
   "cell_type": "markdown",
   "id": "4e5bd5e2-88ec-42fb-b597-77c9772a498e",
   "metadata": {},
   "source": [
    "задача #1"
   ]
  },
  {
   "cell_type": "code",
   "execution_count": 34,
   "id": "c3ac2eca-b318-48cc-99aa-380e2d9f35ad",
   "metadata": {},
   "outputs": [
    {
     "name": "stdin",
     "output_type": "stream",
     "text": [
      " 512\n"
     ]
    },
    {
     "name": "stdout",
     "output_type": "stream",
     "text": [
      "8\n",
      "32\n"
     ]
    }
   ],
   "source": [
    "a = int(input())\n",
    "print(a // 60)\n",
    "print(a % 60)"
   ]
  },
  {
   "cell_type": "markdown",
   "id": "b3f5a05f-138c-4e08-ba7c-b9e607d073fa",
   "metadata": {},
   "source": [
    "задача #2"
   ]
  },
  {
   "cell_type": "code",
   "execution_count": 41,
   "id": "2a4123c1-00ec-4b2d-8b17-c66a8d720bc8",
   "metadata": {},
   "outputs": [
    {
     "name": "stdin",
     "output_type": "stream",
     "text": [
      " 475\n",
      " 1\n",
      " 55\n"
     ]
    },
    {
     "name": "stdout",
     "output_type": "stream",
     "text": [
      "9\n",
      "50\n"
     ]
    }
   ],
   "source": [
    "X = int(input())\n",
    "H = int(input())\n",
    "M = int(input())\n",
    "print((H * 60 + M + X) // 60)\n",
    "print((H * 60 + M + X) % 60)"
   ]
  },
  {
   "cell_type": "code",
   "execution_count": null,
   "id": "d1c460c4-f277-4ff0-9b05-454734efbde2",
   "metadata": {
    "editable": true,
    "slideshow": {
     "slide_type": ""
    },
    "tags": []
   },
   "outputs": [],
   "source": []
  }
 ],
 "metadata": {
  "kernelspec": {
   "display_name": "Python 3 (ipykernel)",
   "language": "python",
   "name": "python3"
  },
  "language_info": {
   "codemirror_mode": {
    "name": "ipython",
    "version": 3
   },
   "file_extension": ".py",
   "mimetype": "text/x-python",
   "name": "python",
   "nbconvert_exporter": "python",
   "pygments_lexer": "ipython3",
   "version": "3.10.6"
  }
 },
 "nbformat": 4,
 "nbformat_minor": 5
}
