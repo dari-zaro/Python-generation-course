{
 "cells": [
  {
   "cell_type": "code",
   "execution_count": 3,
   "id": "7d5654b6-5a17-4cf3-b8d5-ac889ea30ce1",
   "metadata": {},
   "outputs": [
    {
     "name": "stdin",
     "output_type": "stream",
     "text": [
      "Enter a number: -10\n"
     ]
    },
    {
     "name": "stdout",
     "output_type": "stream",
     "text": [
      "False\n"
     ]
    }
   ],
   "source": [
    "a = int(input(\"Enter a number:\"))\n",
    "print(a > 0)"
   ]
  },
  {
   "cell_type": "markdown",
   "id": "1cb73b77-5bfb-4d4f-a8dd-414f8d89a6c8",
   "metadata": {},
   "source": [
    "Допустим, нужно проверить: правда ли введенное целое число является двузначным."
   ]
  },
  {
   "cell_type": "markdown",
   "id": "8e2035d1-718e-4906-84ea-f509dfe616fe",
   "metadata": {},
   "source": [
    "a = int(input())\n",
    "print(10 <= a < 100)"
   ]
  },
  {
   "cell_type": "markdown",
   "id": "99430616-5608-467a-89d3-56c9c654e13a",
   "metadata": {
    "editable": true,
    "slideshow": {
     "slide_type": ""
    },
    "tags": []
   },
   "source": [
    "Это же можно записать и через end, т.е. print(10 <= a and a < 100)"
   ]
  },
  {
   "cell_type": "code",
   "execution_count": 8,
   "id": "f223b848-d9f7-4f8c-aed9-b315d1b650a9",
   "metadata": {},
   "outputs": [
    {
     "data": {
      "text/plain": [
       "True"
      ]
     },
     "execution_count": 8,
     "metadata": {},
     "output_type": "execute_result"
    }
   ],
   "source": [
    "x1, x2, x3 = False, True, False\n",
    "not x1 or x2 and x3"
   ]
  },
  {
   "cell_type": "markdown",
   "id": "7cc0144e-701a-4393-b2b0-ba93aaf92456",
   "metadata": {},
   "source": [
    "Приоритетность вычисления: not > and > or"
   ]
  },
  {
   "cell_type": "code",
   "execution_count": 9,
   "id": "8895144d-be2a-4d90-af19-57fb5b319b65",
   "metadata": {},
   "outputs": [
    {
     "data": {
      "text/plain": [
       "False"
      ]
     },
     "execution_count": 9,
     "metadata": {},
     "output_type": "execute_result"
    }
   ],
   "source": [
    "x1, x2, x3 = False, True, False\n",
    "((not x1) or x2) and x3"
   ]
  },
  {
   "cell_type": "markdown",
   "id": "6d0b4ce3-750e-4d8f-9d81-01d75ee930e1",
   "metadata": {},
   "source": [
    "Задача: расставить скобки в соответствии с приоритетом выполнения операций: a and b or not a and not b\n",
    "Ответ: ((a and b) or ((not a) and (not b)))"
   ]
  },
  {
   "cell_type": "code",
   "execution_count": 10,
   "id": "bb92b9fb-0174-428a-83bd-5d9021d99909",
   "metadata": {},
   "outputs": [
    {
     "data": {
      "text/plain": [
       "True"
      ]
     },
     "execution_count": 10,
     "metadata": {},
     "output_type": "execute_result"
    }
   ],
   "source": [
    "x = 5\n",
    "y = 10\n",
    "y > x * x or y >= 2 * x and x < y"
   ]
  },
  {
   "cell_type": "code",
   "execution_count": 11,
   "id": "a3334cbc-ddb4-43a2-a673-9c2e9218d34b",
   "metadata": {},
   "outputs": [
    {
     "data": {
      "text/plain": [
       "False"
      ]
     },
     "execution_count": 11,
     "metadata": {},
     "output_type": "execute_result"
    }
   ],
   "source": [
    "a = True\n",
    "b = False\n",
    "a and b or not a and not b"
   ]
  },
  {
   "cell_type": "code",
   "execution_count": null,
   "id": "6e4ed4a2-1608-448b-800e-16579a7af92c",
   "metadata": {
    "editable": true,
    "slideshow": {
     "slide_type": ""
    },
    "tags": []
   },
   "outputs": [],
   "source": []
  }
 ],
 "metadata": {
  "kernelspec": {
   "display_name": "Python 3 (ipykernel)",
   "language": "python",
   "name": "python3"
  },
  "language_info": {
   "codemirror_mode": {
    "name": "ipython",
    "version": 3
   },
   "file_extension": ".py",
   "mimetype": "text/x-python",
   "name": "python",
   "nbconvert_exporter": "python",
   "pygments_lexer": "ipython3",
   "version": "3.10.6"
  }
 },
 "nbformat": 4,
 "nbformat_minor": 5
}
