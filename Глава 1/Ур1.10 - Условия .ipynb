{
 "cells": [
  {
   "cell_type": "code",
   "execution_count": null,
   "id": "b461f40b-3800-4de4-93c7-de9009e64a27",
   "metadata": {},
   "outputs": [],
   "source": [
    "Задача: найти наибольшее из двух чисел."
   ]
  },
  {
   "cell_type": "code",
   "execution_count": 3,
   "id": "89dee9d4-9607-4b81-bba8-55fafc94576c",
   "metadata": {},
   "outputs": [
    {
     "name": "stdout",
     "output_type": "stream",
     "text": [
      "7\n"
     ]
    }
   ],
   "source": [
    "a = 4\n",
    "b = 7\n",
    "if a >= b:\n",
    "    print(a)\n",
    "else:\n",
    "    print(b)"
   ]
  },
  {
   "cell_type": "markdown",
   "id": "206b7a51-435d-497d-ac30-83a067129612",
   "metadata": {},
   "source": [
    "Задача: необходимо вывести результат деления чисел, или сообщение о том, что деление невозможно"
   ]
  },
  {
   "cell_type": "code",
   "execution_count": 11,
   "id": "f197cf7c-c46d-4ce0-8067-ddd01257fc65",
   "metadata": {},
   "outputs": [
    {
     "name": "stdin",
     "output_type": "stream",
     "text": [
      " 4\n",
      " 0\n"
     ]
    },
    {
     "name": "stdout",
     "output_type": "stream",
     "text": [
      "Деление невозможно - на ноль делить нельзя.\n"
     ]
    },
    {
     "name": "stdin",
     "output_type": "stream",
     "text": [
      "Введите ненулевое значение: 0\n"
     ]
    },
    {
     "name": "stdout",
     "output_type": "stream",
     "text": [
      "Вы не справились!\n"
     ]
    }
   ],
   "source": [
    "a = int(input())\n",
    "b = int(input())\n",
    "if b != 0:\n",
    "    print(a / b)\n",
    "else:\n",
    "    print(\"Деление невозможно - на ноль делить нельзя.\")\n",
    "    b = int(input(\"Введите ненулевое значение:\"))\n",
    "    if b == 0:\n",
    "        print(\"Вы не справились!\")\n",
    "    else:\n",
    "        print(a / b)"
   ]
  },
  {
   "cell_type": "markdown",
   "id": "794004b9-1d94-4477-8df5-a0b28e0d33aa",
   "metadata": {},
   "source": [
    "ЗАДАЧИ:"
   ]
  },
  {
   "cell_type": "markdown",
   "id": "322fb40c-567f-434a-926f-eeea0f0064e7",
   "metadata": {},
   "source": [
    "задание №1"
   ]
  },
  {
   "cell_type": "code",
   "execution_count": 16,
   "id": "4646204b-00a4-436b-bd82-750375e8d34a",
   "metadata": {},
   "outputs": [
    {
     "name": "stdin",
     "output_type": "stream",
     "text": [
      " 8\n",
      " 8\n",
      " 8\n"
     ]
    },
    {
     "name": "stdout",
     "output_type": "stream",
     "text": [
      "Это нормально\n"
     ]
    }
   ],
   "source": [
    "A = int(input())\n",
    "B = int(input())\n",
    "H = int(input())\n",
    "if H < A:\n",
    "    print(\"Недосып\")\n",
    "elif A <= H <= B:\n",
    "    print(\"Это нормально\")\n",
    "elif H > B:\n",
    "    print(\"Пересып\")"
   ]
  },
  {
   "cell_type": "markdown",
   "id": "24fac47a-5827-45bb-8eef-0d027d0782b6",
   "metadata": {},
   "source": [
    "Задание №2 - нужно определить является ли данный год високосным."
   ]
  },
  {
   "cell_type": "code",
   "execution_count": 16,
   "id": "c03aa22a-0194-44d4-b317-e217b5a8d12a",
   "metadata": {},
   "outputs": [
    {
     "name": "stdin",
     "output_type": "stream",
     "text": [
      " 2100\n"
     ]
    },
    {
     "name": "stdout",
     "output_type": "stream",
     "text": [
      "Обычный\n"
     ]
    }
   ],
   "source": [
    "n = int(input())\n",
    "c = 400\n",
    "if n % 4 == 0 and n % 100 != 0:\n",
    "    print(\"Високосный\")\n",
    "elif n % c == 0:\n",
    "    print(\"Високосный\")\n",
    "else:\n",
    "    print(\"Обычный\")"
   ]
  },
  {
   "cell_type": "markdown",
   "id": "066fb3d1-febd-4c30-9b9e-a1be1e694165",
   "metadata": {},
   "source": [
    "ЗАМЕТКА\n",
    "Високосный если:\n",
    "- Год делится на 4 и не делится на 100\n",
    "- Делится на 400\n",
    "\n",
    "Все остальное - не високосный"
   ]
  }
 ],
 "metadata": {
  "kernelspec": {
   "display_name": "Python 3 (ipykernel)",
   "language": "python",
   "name": "python3"
  },
  "language_info": {
   "codemirror_mode": {
    "name": "ipython",
    "version": 3
   },
   "file_extension": ".py",
   "mimetype": "text/x-python",
   "name": "python",
   "nbconvert_exporter": "python",
   "pygments_lexer": "ipython3",
   "version": "3.10.6"
  }
 },
 "nbformat": 4,
 "nbformat_minor": 5
}
