{
 "cells": [
  {
   "cell_type": "code",
   "execution_count": 4,
   "id": "aee0b768-115f-4532-94e8-103ac958d8eb",
   "metadata": {},
   "outputs": [
    {
     "name": "stdin",
     "output_type": "stream",
     "text": [
      " 3\n",
      " 4\n",
      " 5\n"
     ]
    },
    {
     "name": "stdout",
     "output_type": "stream",
     "text": [
      "6.0\n"
     ]
    }
   ],
   "source": [
    "# Задача №1\n",
    "\n",
    "a = int(input())\n",
    "b = int(input())\n",
    "c = int(input())\n",
    "p = (a + b + c) / 2\n",
    "S = p * (p - a) * (p - b) * (p - c)\n",
    "print(S ** 0.5)"
   ]
  },
  {
   "cell_type": "code",
   "execution_count": 11,
   "id": "c3dd1b8d-727a-46fe-85ed-95bb0e607457",
   "metadata": {},
   "outputs": [
    {
     "name": "stdin",
     "output_type": "stream",
     "text": [
      " 20\n"
     ]
    },
    {
     "name": "stdout",
     "output_type": "stream",
     "text": [
      "True\n"
     ]
    }
   ],
   "source": [
    "# Задача №2\n",
    "\n",
    "a = int(input())\n",
    "if -15 < a <= 12 or 14 < a < 17 or 19 <= a:\n",
    "    print(True)\n",
    "else:\n",
    "    print(False)"
   ]
  },
  {
   "cell_type": "code",
   "execution_count": null,
   "id": "23f4f3b2-4c2c-4d24-818c-c2c3f4d82ba8",
   "metadata": {},
   "outputs": [],
   "source": [
    "# Задача №3 - написать калькулятор.\n",
    "\n",
    "a = float(input())\n",
    "b = float(input())\n",
    "c = input()\n",
    "if c == '+':\n",
    "    print((a) + b)\n",
    "elif c == '-':\n",
    "    print((a) - b)\n",
    "elif c == '/':\n",
    "    if b != 0:\n",
    "        print((a) / b)\n",
    "    else:\n",
    "        print('Деление на 0!')\n",
    "elif c == '*':\n",
    "    print((a) * b)\n",
    "elif c == 'mod':\n",
    "    if b != 0:\n",
    "        print(a % b)\n",
    "    else:\n",
    "        print('Деление на 0!')\n",
    "elif c == 'pow':\n",
    "    print(pow(a,b))\n",
    "elif c == 'div':\n",
    "    if b != 0:\n",
    "        print(a // b)\n",
    "    else:\n",
    "        print('Деление на 0!')"
   ]
  },
  {
   "cell_type": "markdown",
   "id": "fc05406a-770f-4071-a445-281a9e8eaa47",
   "metadata": {},
   "source": [
    "'enter: +, -, /, *, mod, pow, div:'"
   ]
  },
  {
   "cell_type": "code",
   "execution_count": 25,
   "id": "9620b6dd-2490-42d0-9407-f6e5c96c91e4",
   "metadata": {},
   "outputs": [
    {
     "name": "stdin",
     "output_type": "stream",
     "text": [
      "укажите тип фигуры (треугольник, прямоугольник, круг): круг\n",
      " 6\n"
     ]
    },
    {
     "name": "stdout",
     "output_type": "stream",
     "text": [
      "113.04\n"
     ]
    }
   ],
   "source": [
    "# Задача №4\n",
    "\n",
    "Z = input('укажите тип фигуры (треугольник, прямоугольник, круг):')\n",
    "if Z == 'треугольник':\n",
    "    a = int(input())\n",
    "    b = int(input())\n",
    "    c = int(input())\n",
    "    p = (a + b + c) / 2\n",
    "    S = p * (p - a) * (p - b) * (p - c)\n",
    "    print(float(S ** 0.5))\n",
    "if Z == 'прямоугольник':\n",
    "    a = int(input())\n",
    "    b = int(input())\n",
    "    print(float(a * b))\n",
    "if Z == 'круг':\n",
    "    r = int(input())\n",
    "    p = 3.14\n",
    "    print(float(p * r **2)) "
   ]
  },
  {
   "cell_type": "markdown",
   "id": "e86daaa9-6d42-4d06-b567-9520d8a2ac68",
   "metadata": {},
   "source": [
    "1) Провести проверку на максимальное число + повторяющиеся значения\n",
    "2) Провести проверку на минимальное число + повторяющиеся значения\n",
    "3) Оставшееся\n",
    "4) "
   ]
  },
  {
   "cell_type": "code",
   "execution_count": null,
   "id": "90d04c1a-d46e-40d8-9521-24c14e35fcf6",
   "metadata": {},
   "outputs": [],
   "source": [
    "# Задача 5\n",
    "\n",
    "a, b, c = int(input()), int(input()), int(input())\n",
    "if a >= b and a >= c:\n",
    "    M = a\n",
    "elif b >= a and b >= c:\n",
    "    M = b\n",
    "elif c >= a and c >= b:\n",
    "    M = c\n",
    "if a <= b and a <= c:\n",
    "    I = a\n",
    "elif b <= a and b <= c:\n",
    "    I = b\n",
    "elif c <= a and c <= b:\n",
    "    I = c\n",
    "if a != b and a != c and b != c:\n",
    "    print (M), print(I)\n",
    "    if a != M and a != I:\n",
    "        print(a)\n",
    "    elif b != M and b != I:\n",
    "        print(b)\n",
    "    else:\n",
    "        print(c)\n",
    "else: \n",
    "    if a != M or a != I:\n",
    "        N = a\n",
    "    elif b != M or b != I:\n",
    "        N = b\n",
    "    elif c != M or c != I:\n",
    "        N = c\n",
    "    if N == M:\n",
    "        print(M), print(N), print(I)\n",
    "    else:\n",
    "        print(M), print(I), print(N)\n",
    "\n",
    "\"\"\"\n",
    "Ну ёптель, я неправильно поняла задание и мой код работает правиль с той точки зрения, с которой я поняла задание,\n",
    "но реальному заданию не соответствует :^I\n",
    "\n",
    "Пиши заново, лошара.\n",
    "\"\"\""
   ]
  },
  {
   "cell_type": "code",
   "execution_count": null,
   "id": "43b481e1-6df1-4799-a38b-2a608568a446",
   "metadata": {},
   "outputs": [],
   "source": [
    "a, b, c = int(input()), int(input()), int(input())\n",
    "if a >= b and a >= c:\n",
    "    M = a\n",
    "elif b >= a and b >= c:\n",
    "    M = b\n",
    "elif c >= a and c >= b:\n",
    "    M = c\n",
    "if a <= b and a <= c:\n",
    "    I = a\n",
    "elif b <= a and b <= c:\n",
    "    I = b\n",
    "elif c <= a and c <= b:\n",
    "    I = c\n",
    "print(M), print(I)\n",
    "if (a == M and b == I) or (a == I and b == M):\n",
    "    print(c)\n",
    "elif (b == M and c == I) or (b == I and c == M):\n",
    "    print(a)\n",
    "elif (a == M and c == I) or (a == I and c == M):\n",
    "    print(b)\n",
    "\n",
    "# Вот теперь правильно."
   ]
  },
  {
   "cell_type": "code",
   "execution_count": 29,
   "id": "9e738b6a-9ffe-44d2-944a-c3e43210b998",
   "metadata": {},
   "outputs": [
    {
     "name": "stdin",
     "output_type": "stream",
     "text": [
      " 365\n"
     ]
    },
    {
     "name": "stdout",
     "output_type": "stream",
     "text": [
      "365 программистов\n"
     ]
    }
   ],
   "source": [
    "# Задача №6\n",
    "\n",
    "a = int(input())\n",
    "if a % 10 == 0:\n",
    "    print(a, 'программистов')\n",
    "elif 5 <= a % 100 <= 19:\n",
    "    print(a, 'программистов')\n",
    "elif a % 10 == 1:\n",
    "    print(a, 'программист')\n",
    "elif 2 <= a % 10 <= 4:\n",
    "    print(a, 'программиста')\n",
    "else:\n",
    "    print(a, 'программистов')"
   ]
  },
  {
   "cell_type": "markdown",
   "id": "654edf32-950c-434b-be48-d5cf3512501c",
   "metadata": {},
   "source": [
    "'программист'\n",
    "'программиста'\n",
    "'программистов'"
   ]
  },
  {
   "cell_type": "code",
   "execution_count": 12,
   "id": "0f13ab32-5a90-42de-920d-7eb18921c2db",
   "metadata": {},
   "outputs": [
    {
     "name": "stdin",
     "output_type": "stream",
     "text": [
      " 123456\n"
     ]
    },
    {
     "name": "stdout",
     "output_type": "stream",
     "text": [
      "Обычный\n"
     ]
    }
   ],
   "source": [
    "# Задача №7\n",
    "\n",
    "A = str(input()) \n",
    "a = int(A[0])\n",
    "b = int(A[1])\n",
    "c = int(A[2])\n",
    "d = int(A[3])\n",
    "e = int(A[4])\n",
    "f = int(A[5])\n",
    "if (a) + (b) + (c) == (d) + (e) + (f):\n",
    "    print('Счастливый')\n",
    "else:\n",
    "    print('Обычный')"
   ]
  },
  {
   "cell_type": "markdown",
   "id": "acdb8d75-f11c-4e55-bc6f-e561017f1adf",
   "metadata": {},
   "source": [
    "ДОПОЛНИТЕЛЬНАЯ ИНФОРМАЦИЯ:\n",
    "Есть возможность доступа по индексу.\r",
    "S = 'spam'\r\n",
    ">>> S[0]\r\n",
    "'s'\r\n",
    ">>> S[2]\r\n",
    "'a'\r\n",
    ">>> S[-2]\r\n",
    "'a'\r\n",
    "Как видно из примера, в Python возможен и доступ по отрицательному индексу, при этом отсчет идет от конца \n",
    "По умолчанию первый индекс равен 0, а второй - длине строки.\n",
    "Оператор извлечения среза: [X:Y]. X – начало среза, а Y – окончание;\n",
    ">>> s = 'spameggs'\r\n",
    ">>> s[3:5]\r\n",
    "'me'\r\n",
    ">>> s[2:-2]\r\n",
    "'a\n",
    ">>> s[1:]\r\n",
    "'pameggs'\r\n",
    ">>> s[:]\r\n",
    "'spameg\n",
    "Кроме того, можно задать шаг, с которым нужно извлекать срез.>>\r\n",
    ">>> s[::-1]\r\n",
    "'sggemaps'\r\n",
    ">>> s[3:5:-1]\r\n",
    "''\r\n",
    ">>> s[2::2]\r\n",
    "'aeg'gs'eg'\r\n",
    "строки."
   ]
  },
  {
   "cell_type": "code",
   "execution_count": null,
   "id": "2386f0ef-7ce0-4158-9da3-dd33aa3769f3",
   "metadata": {},
   "outputs": [],
   "source": [
    "# хз почему проверка на сайте не пускает. Тут всё работает.\n",
    "a, b, c, A, B, C = int(input()), int(input()), int(input()), int(input()), int(input()), int(input())\n",
    "if a + b + c == A + B + C:\n",
    "    print('Счастливый')\n",
    "else:\n",
    "    print('Обычный')"
   ]
  },
  {
   "cell_type": "code",
   "execution_count": 6,
   "id": "42c5fe10-6f6c-44a1-abd0-afd0b59fcc49",
   "metadata": {},
   "outputs": [
    {
     "name": "stdin",
     "output_type": "stream",
     "text": [
      " 120486\n"
     ]
    },
    {
     "name": "stdout",
     "output_type": "stream",
     "text": [
      "0\n"
     ]
    }
   ],
   "source": [
    "a = str(input())\n",
    "print(a[2])"
   ]
  }
 ],
 "metadata": {
  "kernelspec": {
   "display_name": "Python 3 (ipykernel)",
   "language": "python",
   "name": "python3"
  },
  "language_info": {
   "codemirror_mode": {
    "name": "ipython",
    "version": 3
   },
   "file_extension": ".py",
   "mimetype": "text/x-python",
   "name": "python",
   "nbconvert_exporter": "python",
   "pygments_lexer": "ipython3",
   "version": "3.10.6"
  }
 },
 "nbformat": 4,
 "nbformat_minor": 5
}
