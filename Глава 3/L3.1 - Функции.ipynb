{
 "cells": [
  {
   "cell_type": "code",
   "execution_count": 3,
   "id": "e26cc027-6225-4317-96b1-9d8b3a9dc9d1",
   "metadata": {},
   "outputs": [
    {
     "data": {
      "text/plain": [
       "10555"
      ]
     },
     "execution_count": 3,
     "metadata": {},
     "output_type": "execute_result"
    }
   ],
   "source": [
    "def f(n):\n",
    "    return n * 10 + 5\n",
    "f(f(f(10)))"
   ]
  },
  {
   "cell_type": "code",
   "execution_count": null,
   "id": "36b6fa17-7862-49bc-b641-6a83df9e23f8",
   "metadata": {},
   "outputs": [],
   "source": [
    "#Задача 1\n",
    "\n",
    "def f(x):\n",
    "    if x<=-2:f=1-(x+2)**2\n",
    "    elif-2<x<=2:f=-(x/2)\n",
    "    elif x>2:f=(x-2)**2+1\n",
    "    return f"
   ]
  },
  {
   "cell_type": "code",
   "execution_count": null,
   "id": "15426191-209f-468c-b4b6-2c99daa42129",
   "metadata": {},
   "outputs": [],
   "source": [
    "#Задача 2\n",
    "\n",
    "def modify_list(l):\n",
    "    for i in range(len(l) - 1, -1, -1):\n",
    "        if l[i] % 2 == 0:\n",
    "            l[i] //= 2\n",
    "        else:\n",
    "            l.pop(i)"
   ]
  }
 ],
 "metadata": {
  "kernelspec": {
   "display_name": "Python 3 (ipykernel)",
   "language": "python",
   "name": "python3"
  },
  "language_info": {
   "codemirror_mode": {
    "name": "ipython",
    "version": 3
   },
   "file_extension": ".py",
   "mimetype": "text/x-python",
   "name": "python",
   "nbconvert_exporter": "python",
   "pygments_lexer": "ipython3",
   "version": "3.10.6"
  }
 },
 "nbformat": 4,
 "nbformat_minor": 5
}
