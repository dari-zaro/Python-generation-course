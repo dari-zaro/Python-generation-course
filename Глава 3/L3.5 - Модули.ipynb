{
 "cells": [
  {
   "cell_type": "code",
   "execution_count": 1,
   "id": "e1eb4b2d-f157-4d81-83a6-ae0dbdde8b7b",
   "metadata": {},
   "outputs": [
    {
     "name": "stdin",
     "output_type": "stream",
     "text": [
      " 10.0\n"
     ]
    },
    {
     "name": "stdout",
     "output_type": "stream",
     "text": [
      "62.83185307179586\n"
     ]
    }
   ],
   "source": [
    "#Задача 1\n",
    "\n",
    "from math import pi\n",
    "r = float(input())\n",
    "print(2*pi*r)"
   ]
  },
  {
   "cell_type": "code",
   "execution_count": null,
   "id": "0a1c16d2-79ed-4bf6-a0e5-5854d6fcde59",
   "metadata": {},
   "outputs": [],
   "source": [
    "#Задача 2\n",
    "\n",
    "l = len(sys.argv)\n",
    "for i in range(1, l):\n",
    "    print(sys.argv[i])"
   ]
  }
 ],
 "metadata": {
  "kernelspec": {
   "display_name": "Python 3 (ipykernel)",
   "language": "python",
   "name": "python3"
  },
  "language_info": {
   "codemirror_mode": {
    "name": "ipython",
    "version": 3
   },
   "file_extension": ".py",
   "mimetype": "text/x-python",
   "name": "python",
   "nbconvert_exporter": "python",
   "pygments_lexer": "ipython3",
   "version": "3.10.6"
  }
 },
 "nbformat": 4,
 "nbformat_minor": 5
}
