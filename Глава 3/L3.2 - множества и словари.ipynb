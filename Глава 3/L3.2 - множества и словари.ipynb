{
 "cells": [
  {
   "cell_type": "code",
   "execution_count": null,
   "id": "358dadf8-4f3f-456c-843b-810793f8fe27",
   "metadata": {},
   "outputs": [],
   "source": [
    "#задача 1\n",
    "\n",
    "def update_dictionary(d, key, value): # Определение функции update_dictionary с параметрами d (словарь), key (ключ) и value (значение).\n",
    "    # Проверяем, существует ли ключ key в словаре d.\n",
    "    if key in d:\n",
    "        # Если ключ существует, добавляем значение value в список, связанный с этим ключом.\n",
    "        d[key].append(value)\n",
    "    else:\n",
    "        # Если ключ key отсутствует в словаре d, вычисляем новый ключ, равный удвоенному значению key.\n",
    "        new_key = 2 * key\n",
    "        # Проверяем, существует ли новый ключ new_key в словаре d.\n",
    "        if new_key in d:\n",
    "            # Если новый ключ существует, добавляем значение value в связанный с ним список.\n",
    "            d[new_key].append(value)\n",
    "        else:\n",
    "            # Если новый ключ new_key также отсутствует в словаре d, создаем новую запись в словаре.\n",
    "            # Новый ключ new_key связываем со списком, содержащим значение value.\n",
    "            d[new_key] = [value]"
   ]
  },
  {
   "cell_type": "code",
   "execution_count": null,
   "id": "10649535-42d1-4068-ad46-3ba8e9a30bc2",
   "metadata": {},
   "outputs": [],
   "source": [
    "#задача 2\n",
    "\n",
    "# Функция для подсчета слов и создания статистики\n",
    "def word_count(sentence):\n",
    "    # Преобразуем всю строку в нижний регистр для учета регистра\n",
    "    sentence = sentence.lower()\n",
    "    \n",
    "    # Разбиваем строку на слова, используя пробел в качестве разделителя\n",
    "    words = sentence.split()\n",
    "    \n",
    "    # Создаем пустой словарь для хранения статистики\n",
    "    word_counts = {}\n",
    "    \n",
    "    # Проходим по каждому слову в списке\n",
    "    for word in words:        \n",
    "        # Если слово уже встречалось, увеличиваем счетчик\n",
    "        if word in word_counts:\n",
    "            word_counts[word] += 1\n",
    "        else:\n",
    "            # Если слово встречается первый раз, создаем запись в словаре\n",
    "            word_counts[word] = 1\n",
    "    \n",
    "    # Возвращаем словарь с результатами\n",
    "    return word_counts\n",
    "# Получаем строку \n",
    "input_string = input()\n",
    "# Получаем статистику и выводим результат\n",
    "result = word_count(input_string)\n",
    "for word, count in result.items():\n",
    "    print(word, count)"
   ]
  },
  {
   "cell_type": "markdown",
   "id": "2de2eb8e-d924-4755-943c-dea3e84a0477",
   "metadata": {},
   "source": [
    "КОММЕНТАРИЙ ДЛЯ ЗАДАЧИ №3\n",
    "1. Создаем пустой словарь;\n",
    "2. Вводим n инпутом;\n",
    "3. В цикле вводим иксы столько раз, чему равно n, проверяя:\n",
    "- если такой Х(ключ) уже есть в словаре, то просто выводим его из словаря;\n",
    "- в противном случае, добавляем в наш словарь ключ Х со значением f(х) и выводим его\n",
    "(не забываем \"шагать\" по циклу счетчиком)"
   ]
  },
  {
   "cell_type": "code",
   "execution_count": null,
   "id": "e3b495e5-f459-40ed-a1af-2412a135b93e",
   "metadata": {},
   "outputs": [],
   "source": [
    "#задача 3\n",
    "\n",
    "d = {}\n",
    "n = int(input())\n",
    "for x in range n:\n",
    "        if \n",
    "\n"
   ]
  },
  {
   "cell_type": "code",
   "execution_count": null,
   "id": "acc7ccac-246d-47f4-a759-bf6c1269e9f4",
   "metadata": {},
   "outputs": [],
   "source": [
    "#задача 3\n",
    "\n",
    "def f(x):\n",
    "    return x**3\n",
    "d = {}\n",
    "a = []\n",
    "for _ in range(int(input())):\n",
    "    x = int(input())\n",
    "    while True:\n",
    "        try:\n",
    "            a.append(d[x])\n",
    "            break\n",
    "        except KeyError:\n",
    "            d[x] = f(x) \n",
    "print(*a)"
   ]
  }
 ],
 "metadata": {
  "kernelspec": {
   "display_name": "Python 3 (ipykernel)",
   "language": "python",
   "name": "python3"
  },
  "language_info": {
   "codemirror_mode": {
    "name": "ipython",
    "version": 3
   },
   "file_extension": ".py",
   "mimetype": "text/x-python",
   "name": "python",
   "nbconvert_exporter": "python",
   "pygments_lexer": "ipython3",
   "version": "3.10.6"
  }
 },
 "nbformat": 4,
 "nbformat_minor": 5
}
