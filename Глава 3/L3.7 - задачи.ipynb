{
 "cells": [
  {
   "cell_type": "code",
   "execution_count": null,
   "id": "176fbfda-64cd-4253-b5f7-6997f57dfc01",
   "metadata": {},
   "outputs": [],
   "source": [
    "#Задача 1\n",
    "d = {}\n",
    "for game in range(int(input())):\n",
    "    c1, r1, c2, r2 = input().split(';')\n",
    "    r1, r2 = int(r1), int(r2)\n",
    "    r1, r2 = 3 * (r1 > r2) + (r1 == r2), 3 * (r2 > r1) + (r1 == r2)\n",
    "    r1, r2 =  [[1, int(_ == 3), int(_ == 1), int(_ == 0), _] for _ in (r1, r2)]\n",
    "    d[c1] = [sum(_) for _ in zip(d.get(c1, [0, 0, 0, 0, 0]), r1)]\n",
    "    d[c2] = [sum(_) for _ in zip(d.get(c2, [0, 0, 0, 0, 0]), r2)]\n",
    "[print(k, ' '.join(map(str, v)), sep=':') for k, v in d.items()]"
   ]
  },
  {
   "cell_type": "code",
   "execution_count": null,
   "id": "a1232657-1b85-40f3-bd9e-f54b417f618a",
   "metadata": {},
   "outputs": [],
   "source": [
    "#Задача 2\n",
    "s=str(input())\n",
    "a=[]\n",
    "for i in range(len(s)):\n",
    "    si=s[i]\n",
    "    a.append(si)\n",
    "b=[]\n",
    "n=str(input())\n",
    "for j in range(len(n)):\n",
    "    sj=n[j]\n",
    "    b.append(sj)\n",
    "p={}\n",
    "for pi in range(len(s)):\n",
    "    key=s[pi]\n",
    "    p[key]=0\n",
    "j1=0\n",
    "for i in range(0,len(a)):\n",
    "    key=a[i]\n",
    "    while j1<len(b):\n",
    "        bj=b[0]\n",
    "        if key in p:\n",
    "            p[key]=bj\n",
    "        b.remove(bj)\n",
    "        break\n",
    "c=[]\n",
    "si=str(input())\n",
    "for si1 in range(0,len(si)):\n",
    "    ci=si[si1]\n",
    "    c.append(ci)\n",
    "co=[]\n",
    "for ci in range(0,len(c)):\n",
    "    if c[ci] in p:\n",
    "        cco=c[ci]\n",
    "        pco=p[cco]\n",
    "        co.append(pco)\n",
    "d=[]\n",
    "di=str(input())\n",
    "for sj1 in range(0,len(di)):\n",
    "    dj=di[sj1]\n",
    "    d.append(dj)\n",
    "do=[]\n",
    "for di in range(0,len(d)):\n",
    "    for key in p:\n",
    "        pkey=key\n",
    "        if p.get(key) == d[di]:\n",
    "            ddo=pkey\n",
    "            do.append(ddo)\n",
    "for i in range (0,len(co)):\n",
    "    print(co[i],end='')\n",
    "print()\n",
    "for j in range (0,len(do)):\n",
    "    print(do[j],end='')"
   ]
  },
  {
   "cell_type": "code",
   "execution_count": null,
   "id": "e23b11a1-46e9-470f-8e14-77ea30889dbf",
   "metadata": {},
   "outputs": [],
   "source": [
    "#Задача 3\n",
    "known = set()\n",
    "unknown = set()\n",
    "for _ in range(int(input())):\n",
    "    known.add(input().strip().lower())\n",
    "for _ in range(int(input())):\n",
    "    for word in input().strip().lower().split():\n",
    "        if word not in known:\n",
    "            unknown.add(word)\n",
    "for word in unknown:\n",
    "    print(word)"
   ]
  },
  {
   "cell_type": "code",
   "execution_count": null,
   "id": "2ee8f189-fef2-4fd6-9836-e1b8f4ea69d2",
   "metadata": {},
   "outputs": [],
   "source": [
    "#Задача 4\n",
    "n = int(input())\n",
    "pos = [0,0]\n",
    "for i in range(n):\n",
    "    cmd = input()\n",
    "    ls = cmd.split()\n",
    "    if ls[0] == \"север\":\n",
    "        pos[1] += int(ls[1])\n",
    "    elif ls[0] == \"запад\":\n",
    "        pos[0] -= int(ls[1])\n",
    "    elif ls[0] == \"юг\":\n",
    "        pos[1] -= int(ls[1])\n",
    "    elif ls[0] == \"восток\":\n",
    "        pos[0] += int(ls[1])\n",
    "print(pos[0],pos[1])"
   ]
  },
  {
   "cell_type": "code",
   "execution_count": 1,
   "id": "2d8a1270-1823-4604-b891-58dbb54506f0",
   "metadata": {},
   "outputs": [
    {
     "name": "stdout",
     "output_type": "stream",
     "text": [
      "1 127.2\n",
      "2 128.5\n",
      "3 134.5\n",
      "4 138.0\n",
      "5 144.66666666666666\n",
      "6 154.8\n",
      "7 159.25\n",
      "8 162.4\n",
      "9 169.4\n",
      "10 169.5\n",
      "11 174.57142857142858\n"
     ]
    }
   ],
   "source": [
    "#Задача 5\n",
    "setClasses = tuple(str(i) for i in range(1, 12))\n",
    "dictHeight = dict.fromkeys(setClasses, 0)\n",
    "dictCount = dict.fromkeys(setClasses, 0)\n",
    "with open('C:\\\\Users\\\\THUNDEROBOT\\\\Downloads\\\\dataset_3380_5.txt', encoding='UTF-8') as inf:\n",
    "    for line in inf:\n",
    "        lst = line.strip().split('\\t')\n",
    "        dictHeight[lst[0]] += float(lst[2])\n",
    "        dictCount[lst[0]] += 1\n",
    "for i in setClasses:\n",
    "    if dictHeight[i] == 0:\n",
    "        d = '-'\n",
    "    else:\n",
    "        d = str(dictHeight[i] / dictCount[i])\n",
    "    print(i + ' ' + d)"
   ]
  },
  {
   "cell_type": "code",
   "execution_count": null,
   "id": "0e1a203c-b3c8-47c8-9296-4cf015d5a3be",
   "metadata": {},
   "outputs": [],
   "source": []
  }
 ],
 "metadata": {
  "kernelspec": {
   "display_name": "Python 3 (ipykernel)",
   "language": "python",
   "name": "python3"
  },
  "language_info": {
   "codemirror_mode": {
    "name": "ipython",
    "version": 3
   },
   "file_extension": ".py",
   "mimetype": "text/x-python",
   "name": "python",
   "nbconvert_exporter": "python",
   "pygments_lexer": "ipython3",
   "version": "3.10.6"
  }
 },
 "nbformat": 4,
 "nbformat_minor": 5
}
